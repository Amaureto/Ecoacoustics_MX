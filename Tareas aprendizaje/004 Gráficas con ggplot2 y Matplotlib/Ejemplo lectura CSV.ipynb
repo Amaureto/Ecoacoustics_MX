{
 "cells": [
  {
   "cell_type": "markdown",
   "metadata": {},
   "source": [
    "# Ejemplo de lectura de archivo csv\n",
    "\n",
    "Utiliso la bibliotecas os que me da acceso al sistema de archivos y otras cosas propias del sistema operativo (de ahí **os**).\n",
    "Por otra parte, la biblioteca Pandas ofrece un montón de cosas para el procesamiento de datos desde su manejo hasta su análisis. Una cosa que es muy útil es lo que se llama *autocompletion*, que es una ayuda para recordar que posibilidades u opciones tengo para usar un comando dado. Lo uso con la tecla **tab**. Esta característica es dependiente del tipo de objeto que se trate, así que se requiere que ese objeto ya exista, es decir que la \"celda\" en donde se crea ya haya sido ejecutada previamente."
   ]
  },
  {
   "cell_type": "code",
   "execution_count": null,
   "metadata": {
    "collapsed": true
   },
   "outputs": [],
   "source": [
    "import os\n",
    "import pandas as pd"
   ]
  },
  {
   "cell_type": "markdown",
   "metadata": {},
   "source": [
    "## lectura de datos\n",
    "\n",
    "Primero selecciono el directorio en donde tengo los datos. Básicamente es el directorio que usaré para trabajar y pondré aquí también los resultados del procesamiento. Guardo en una lista *archivos* el contenido de la carpeta que seleccione para trabajar con la función *chdir*. Al dar el nombre de la lista le indico a Python que muestre su contenido, que es el resultado que aparece en seguida."
   ]
  },
  {
   "cell_type": "code",
   "execution_count": 11,
   "metadata": {
    "collapsed": false
   },
   "outputs": [
    {
     "data": {
      "text/plain": [
       "['algo.txt', 'Datos_PTC_10spp_Ranas.csv', 'exercise4_ggplot.Rmd']"
      ]
     },
     "execution_count": 11,
     "metadata": {},
     "output_type": "execute_result"
    }
   ],
   "source": [
    "os.chdir(\"C:/Users/Miguel/Documents/0 Versiones/3 Tesis/Amauri/Tareas aprendizaje/004 Gráficas con ggplot2 y Matplotlib\")\n",
    "archivos = os.listdir()\n",
    "archivos"
   ]
  },
  {
   "cell_type": "markdown",
   "metadata": {},
   "source": [
    "### Resultados de la lectura del archivo csv\n",
    "\n",
    "Mediante la función *read_csv_ de pandas leo el archivo **csv** que me interesa. Una cosa interesante es que como guardé el directorio de la carpeta en la variable *archivos*, puedo usarla para recuperar el nombre que me interesa. La lista está ordenada y sus elementos pueden ser referidos por número de localización (empezando con 0!!!). En este caso uso *archivo[0] para leer \"*algo.txt*\" y lo despliego siplemente invocando su nombre."
   ]
  },
  {
   "cell_type": "code",
   "execution_count": 9,
   "metadata": {
    "collapsed": false
   },
   "outputs": [
    {
     "data": {
      "text/html": [
       "<div>\n",
       "<table border=\"1\" class=\"dataframe\">\n",
       "  <thead>\n",
       "    <tr style=\"text-align: right;\">\n",
       "      <th></th>\n",
       "      <th>uno</th>\n",
       "      <th>dos</th>\n",
       "    </tr>\n",
       "  </thead>\n",
       "  <tbody>\n",
       "    <tr>\n",
       "      <th>0</th>\n",
       "      <td>1.1</td>\n",
       "      <td>2.1</td>\n",
       "    </tr>\n",
       "    <tr>\n",
       "      <th>1</th>\n",
       "      <td>1.2</td>\n",
       "      <td>2.2</td>\n",
       "    </tr>\n",
       "    <tr>\n",
       "      <th>2</th>\n",
       "      <td>1.3</td>\n",
       "      <td>2.3</td>\n",
       "    </tr>\n",
       "  </tbody>\n",
       "</table>\n",
       "</div>"
      ],
      "text/plain": [
       "   uno   dos\n",
       "0  1.1   2.1\n",
       "1  1.2   2.2\n",
       "2  1.3   2.3"
      ]
     },
     "execution_count": 9,
     "metadata": {},
     "output_type": "execute_result"
    }
   ],
   "source": [
    "datos = pd.read_csv(archivos[0])\n",
    "datos"
   ]
  },
  {
   "cell_type": "markdown",
   "metadata": {},
   "source": [
    "### Archivo de ranas\n",
    "\n",
    "Dado que estas usando palabras acentuadas, es necesario especificar el sistema de codificación de los caracteres en tu archivo. Por lo tanto, en este caso, es indispensable decirle a Python cual es el sistema de codificación que permite interpretar con eactitud el contenido del archivo. El sistema de codificación de windows suele ser una variante del **iso-8859-1**, puedes probar con él o si no con **latin1**, que aplica cuando estás usando caractreses acentuados en alfabeto latino.\n"
   ]
  },
  {
   "cell_type": "code",
   "execution_count": 20,
   "metadata": {
    "collapsed": false
   },
   "outputs": [
    {
     "data": {
      "text/html": [
       "<div>\n",
       "<table border=\"1\" class=\"dataframe\">\n",
       "  <thead>\n",
       "    <tr style=\"text-align: right;\">\n",
       "      <th></th>\n",
       "      <th>No.</th>\n",
       "      <th>Familia</th>\n",
       "      <th>Especie</th>\n",
       "      <th>No_individuos</th>\n",
       "      <th>Longitud_media_mm</th>\n",
       "      <th>Peso_promedio_gr</th>\n",
       "      <th>Color_dominante</th>\n",
       "    </tr>\n",
       "  </thead>\n",
       "  <tbody>\n",
       "    <tr>\n",
       "      <th>0</th>\n",
       "      <td>1</td>\n",
       "      <td>Hylidae</td>\n",
       "      <td>C. taeniopus</td>\n",
       "      <td>8</td>\n",
       "      <td>9.494</td>\n",
       "      <td>48.94</td>\n",
       "      <td>Verde oscuro</td>\n",
       "    </tr>\n",
       "    <tr>\n",
       "      <th>1</th>\n",
       "      <td>2</td>\n",
       "      <td>Craugastoridae</td>\n",
       "      <td>C. decoratus</td>\n",
       "      <td>1</td>\n",
       "      <td>2.500</td>\n",
       "      <td>30.00</td>\n",
       "      <td>Café</td>\n",
       "    </tr>\n",
       "    <tr>\n",
       "      <th>2</th>\n",
       "      <td>3</td>\n",
       "      <td>Craugastoridae</td>\n",
       "      <td>C. rhodopis</td>\n",
       "      <td>97</td>\n",
       "      <td>1.836</td>\n",
       "      <td>23.84</td>\n",
       "      <td>Café oscuro</td>\n",
       "    </tr>\n",
       "    <tr>\n",
       "      <th>3</th>\n",
       "      <td>4</td>\n",
       "      <td>Craugastoridae</td>\n",
       "      <td>C. pygmaeus</td>\n",
       "      <td>3</td>\n",
       "      <td>0.300</td>\n",
       "      <td>13.88</td>\n",
       "      <td>Café medio</td>\n",
       "    </tr>\n",
       "    <tr>\n",
       "      <th>4</th>\n",
       "      <td>5</td>\n",
       "      <td>Hylidae</td>\n",
       "      <td>E. miotympanum</td>\n",
       "      <td>104</td>\n",
       "      <td>1.330</td>\n",
       "      <td>26.68</td>\n",
       "      <td>Verde claro</td>\n",
       "    </tr>\n",
       "    <tr>\n",
       "      <th>5</th>\n",
       "      <td>6</td>\n",
       "      <td>Eleutherodactylidae</td>\n",
       "      <td>E. cystignathoides</td>\n",
       "      <td>10</td>\n",
       "      <td>0.660</td>\n",
       "      <td>19.25</td>\n",
       "      <td>Gris</td>\n",
       "    </tr>\n",
       "    <tr>\n",
       "      <th>6</th>\n",
       "      <td>7</td>\n",
       "      <td>Centrolenidae</td>\n",
       "      <td>H. fleischmanni</td>\n",
       "      <td>8</td>\n",
       "      <td>0.731</td>\n",
       "      <td>23.83</td>\n",
       "      <td>Verde limón</td>\n",
       "    </tr>\n",
       "    <tr>\n",
       "      <th>7</th>\n",
       "      <td>8</td>\n",
       "      <td>Bufonidae</td>\n",
       "      <td>I. valliceps</td>\n",
       "      <td>1</td>\n",
       "      <td>13.500</td>\n",
       "      <td>50.20</td>\n",
       "      <td>Café claro</td>\n",
       "    </tr>\n",
       "    <tr>\n",
       "      <th>8</th>\n",
       "      <td>9</td>\n",
       "      <td>Ranidae</td>\n",
       "      <td>L. berlandieri</td>\n",
       "      <td>1</td>\n",
       "      <td>3.500</td>\n",
       "      <td>32.00</td>\n",
       "      <td>Verde</td>\n",
       "    </tr>\n",
       "    <tr>\n",
       "      <th>9</th>\n",
       "      <td>10</td>\n",
       "      <td>Hylidae</td>\n",
       "      <td>P. arborescandens</td>\n",
       "      <td>27</td>\n",
       "      <td>2.767</td>\n",
       "      <td>32.44</td>\n",
       "      <td>Dorado</td>\n",
       "    </tr>\n",
       "  </tbody>\n",
       "</table>\n",
       "</div>"
      ],
      "text/plain": [
       "   No.              Familia             Especie  No_individuos  \\\n",
       "0    1              Hylidae        C. taeniopus              8   \n",
       "1    2       Craugastoridae        C. decoratus              1   \n",
       "2    3       Craugastoridae         C. rhodopis             97   \n",
       "3    4       Craugastoridae         C. pygmaeus              3   \n",
       "4    5              Hylidae      E. miotympanum            104   \n",
       "5    6  Eleutherodactylidae  E. cystignathoides             10   \n",
       "6    7        Centrolenidae     H. fleischmanni              8   \n",
       "7    8            Bufonidae        I. valliceps              1   \n",
       "8    9              Ranidae      L. berlandieri              1   \n",
       "9   10              Hylidae   P. arborescandens             27   \n",
       "\n",
       "   Longitud_media_mm  Peso_promedio_gr Color_dominante  \n",
       "0              9.494             48.94    Verde oscuro  \n",
       "1              2.500             30.00           Café   \n",
       "2              1.836             23.84     Café oscuro  \n",
       "3              0.300             13.88      Café medio  \n",
       "4              1.330             26.68     Verde claro  \n",
       "5              0.660             19.25            Gris  \n",
       "6              0.731             23.83     Verde limón  \n",
       "7             13.500             50.20      Café claro  \n",
       "8              3.500             32.00           Verde  \n",
       "9              2.767             32.44          Dorado  "
      ]
     },
     "execution_count": 20,
     "metadata": {},
     "output_type": "execute_result"
    }
   ],
   "source": [
    "ranas = pd.read_csv(archivos[1], encoding = 'latin1')\n",
    "ranas"
   ]
  },
  {
   "cell_type": "code",
   "execution_count": null,
   "metadata": {
    "collapsed": true
   },
   "outputs": [],
   "source": []
  }
 ],
 "metadata": {
  "kernelspec": {
   "display_name": "Python 3",
   "language": "python",
   "name": "python3"
  },
  "language_info": {
   "codemirror_mode": {
    "name": "ipython",
    "version": 3
   },
   "file_extension": ".py",
   "mimetype": "text/x-python",
   "name": "python",
   "nbconvert_exporter": "python",
   "pygments_lexer": "ipython3",
   "version": "3.5.2"
  }
 },
 "nbformat": 4,
 "nbformat_minor": 0
}
