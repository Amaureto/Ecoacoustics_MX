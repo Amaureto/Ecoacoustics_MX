{
 "cells": [
  {
   "cell_type": "markdown",
   "metadata": {},
   "source": [
    "####Tarea de aprendizaje 4. Graficación con matplotlib en Phyton\n",
    "\n",
    "Instrucciones: El ejercicio consiste en graficar la longitud media de 10 especies de ranas con puntos que varién por color según su coloración dominante de la especie y el tamaño del punto varié según el peso promedio de la especie."
   ]
  },
  {
   "cell_type": "code",
   "execution_count": 38,
   "metadata": {
    "collapsed": true
   },
   "outputs": [],
   "source": [
    "import os #Accedemos al sistema operativo\n",
    "import pandas as pd #Cargamos la biblioteca \"pandas\"\n",
    "import matplotlib.pyplot as plt #Cargamos la biblioteca \"matplotlib\""
   ]
  },
  {
   "cell_type": "code",
   "execution_count": 39,
   "metadata": {
    "collapsed": false,
    "scrolled": true
   },
   "outputs": [
    {
     "data": {
      "text/plain": [
       "['.ipynb_checkpoints',\n",
       " '.Rhistory',\n",
       " 'algo.txt',\n",
       " 'Datos_PTC_10spp_Ranas.csv',\n",
       " 'Ejemplo lectura CSV.ipynb',\n",
       " 'TA4_grafico_ggplot.docx',\n",
       " 'TA4_grafico_ggplot.nb.html',\n",
       " 'TA4_grafico_ggplot.Rmd',\n",
       " 'TA4_grafico_matplotlib.ipynb']"
      ]
     },
     "execution_count": 39,
     "metadata": {},
     "output_type": "execute_result"
    }
   ],
   "source": [
    "os.chdir(\"C:/Users/OPT9030-GBB/Documents/Versiones/Ecoacustics_MX/Tareas aprendizaje/004 Gráficas con ggplot2 y Matplotlib\") #Selecciono el directorio de trabajo\n",
    "archivos = os.listdir() #Indicamos que guarde en la lista \"archivos\" el contenido de dicha carpeta\n",
    "archivos #Solicitamos que despliegue su contenido"
   ]
  },
  {
   "cell_type": "code",
   "execution_count": 40,
   "metadata": {
    "collapsed": false
   },
   "outputs": [
    {
     "data": {
      "text/html": [
       "<div>\n",
       "<table border=\"1\" class=\"dataframe\">\n",
       "  <thead>\n",
       "    <tr style=\"text-align: right;\">\n",
       "      <th></th>\n",
       "      <th>No.</th>\n",
       "      <th>Familia</th>\n",
       "      <th>Especie</th>\n",
       "      <th>No_individuos</th>\n",
       "      <th>Longitud_media_cm</th>\n",
       "      <th>Peso_promedio_gr</th>\n",
       "      <th>Color_dominante</th>\n",
       "    </tr>\n",
       "  </thead>\n",
       "  <tbody>\n",
       "    <tr>\n",
       "      <th>0</th>\n",
       "      <td>1</td>\n",
       "      <td>Hylidae</td>\n",
       "      <td>C. taeniopus</td>\n",
       "      <td>8</td>\n",
       "      <td>9.494</td>\n",
       "      <td>48.94</td>\n",
       "      <td>Verde oscuro</td>\n",
       "    </tr>\n",
       "    <tr>\n",
       "      <th>1</th>\n",
       "      <td>2</td>\n",
       "      <td>Craugastoridae</td>\n",
       "      <td>C. decoratus</td>\n",
       "      <td>1</td>\n",
       "      <td>2.500</td>\n",
       "      <td>30.00</td>\n",
       "      <td>Café</td>\n",
       "    </tr>\n",
       "    <tr>\n",
       "      <th>2</th>\n",
       "      <td>3</td>\n",
       "      <td>Craugastoridae</td>\n",
       "      <td>C. rhodopis</td>\n",
       "      <td>97</td>\n",
       "      <td>1.836</td>\n",
       "      <td>23.84</td>\n",
       "      <td>Café oscuro</td>\n",
       "    </tr>\n",
       "    <tr>\n",
       "      <th>3</th>\n",
       "      <td>4</td>\n",
       "      <td>Craugastoridae</td>\n",
       "      <td>C. pygmaeus</td>\n",
       "      <td>3</td>\n",
       "      <td>0.300</td>\n",
       "      <td>13.88</td>\n",
       "      <td>Café medio</td>\n",
       "    </tr>\n",
       "    <tr>\n",
       "      <th>4</th>\n",
       "      <td>5</td>\n",
       "      <td>Hylidae</td>\n",
       "      <td>E. miotympanum</td>\n",
       "      <td>104</td>\n",
       "      <td>1.330</td>\n",
       "      <td>26.68</td>\n",
       "      <td>Verde claro</td>\n",
       "    </tr>\n",
       "    <tr>\n",
       "      <th>5</th>\n",
       "      <td>6</td>\n",
       "      <td>Eleutherodactylidae</td>\n",
       "      <td>E. cystignathoides</td>\n",
       "      <td>10</td>\n",
       "      <td>0.660</td>\n",
       "      <td>19.25</td>\n",
       "      <td>Gris</td>\n",
       "    </tr>\n",
       "    <tr>\n",
       "      <th>6</th>\n",
       "      <td>7</td>\n",
       "      <td>Centrolenidae</td>\n",
       "      <td>H. fleischmanni</td>\n",
       "      <td>8</td>\n",
       "      <td>0.731</td>\n",
       "      <td>23.83</td>\n",
       "      <td>Verde limón</td>\n",
       "    </tr>\n",
       "    <tr>\n",
       "      <th>7</th>\n",
       "      <td>8</td>\n",
       "      <td>Bufonidae</td>\n",
       "      <td>I. valliceps</td>\n",
       "      <td>1</td>\n",
       "      <td>13.500</td>\n",
       "      <td>50.20</td>\n",
       "      <td>Café claro</td>\n",
       "    </tr>\n",
       "    <tr>\n",
       "      <th>8</th>\n",
       "      <td>9</td>\n",
       "      <td>Ranidae</td>\n",
       "      <td>L. berlandieri</td>\n",
       "      <td>1</td>\n",
       "      <td>3.500</td>\n",
       "      <td>32.00</td>\n",
       "      <td>Verde</td>\n",
       "    </tr>\n",
       "    <tr>\n",
       "      <th>9</th>\n",
       "      <td>10</td>\n",
       "      <td>Hylidae</td>\n",
       "      <td>P. arborescandens</td>\n",
       "      <td>27</td>\n",
       "      <td>2.767</td>\n",
       "      <td>32.44</td>\n",
       "      <td>Dorado</td>\n",
       "    </tr>\n",
       "  </tbody>\n",
       "</table>\n",
       "</div>"
      ],
      "text/plain": [
       "   No.              Familia             Especie  No_individuos  \\\n",
       "0    1              Hylidae        C. taeniopus              8   \n",
       "1    2       Craugastoridae        C. decoratus              1   \n",
       "2    3       Craugastoridae         C. rhodopis             97   \n",
       "3    4       Craugastoridae         C. pygmaeus              3   \n",
       "4    5              Hylidae      E. miotympanum            104   \n",
       "5    6  Eleutherodactylidae  E. cystignathoides             10   \n",
       "6    7        Centrolenidae     H. fleischmanni              8   \n",
       "7    8            Bufonidae        I. valliceps              1   \n",
       "8    9              Ranidae      L. berlandieri              1   \n",
       "9   10              Hylidae   P. arborescandens             27   \n",
       "\n",
       "   Longitud_media_cm  Peso_promedio_gr Color_dominante  \n",
       "0              9.494             48.94    Verde oscuro  \n",
       "1              2.500             30.00           Café   \n",
       "2              1.836             23.84     Café oscuro  \n",
       "3              0.300             13.88      Café medio  \n",
       "4              1.330             26.68     Verde claro  \n",
       "5              0.660             19.25            Gris  \n",
       "6              0.731             23.83     Verde limón  \n",
       "7             13.500             50.20      Café claro  \n",
       "8              3.500             32.00           Verde  \n",
       "9              2.767             32.44          Dorado  "
      ]
     },
     "execution_count": 40,
     "metadata": {},
     "output_type": "execute_result"
    }
   ],
   "source": [
    "ranas = pd.read_csv(archivos[3], encoding = 'latin1') #Leemos el archivo csv e indico el sistema de codificación adecuado para interpretar el archivo\n",
    "ranas # Desplegamos el archivo de datos"
   ]
  },
  {
   "cell_type": "code",
   "execution_count": 41,
   "metadata": {
    "collapsed": false
   },
   "outputs": [
    {
     "data": {
      "text/plain": [
       "pandas.core.frame.DataFrame"
      ]
     },
     "execution_count": 41,
     "metadata": {},
     "output_type": "execute_result"
    }
   ],
   "source": [
    "type(ranas) #Solicitamos nos indique ¿de qué tipo es el objeto \"ranas\"?"
   ]
  },
  {
   "cell_type": "code",
   "execution_count": 42,
   "metadata": {
    "collapsed": false
   },
   "outputs": [
    {
     "data": {
      "text/plain": [
       "Index(['No.', 'Familia', 'Especie', 'No_individuos', 'Longitud_media_cm',\n",
       "       'Peso_promedio_gr', 'Color_dominante'],\n",
       "      dtype='object')"
      ]
     },
     "execution_count": 42,
     "metadata": {},
     "output_type": "execute_result"
    }
   ],
   "source": [
    "ranas.columns #¿Qué campos contiene el dataframe \"ranas\"?"
   ]
  },
  {
   "cell_type": "code",
   "execution_count": 43,
   "metadata": {
    "collapsed": false
   },
   "outputs": [
    {
     "data": {
      "text/plain": [
       "No.                    int64\n",
       "Familia               object\n",
       "Especie               object\n",
       "No_individuos          int64\n",
       "Longitud_media_cm    float64\n",
       "Peso_promedio_gr     float64\n",
       "Color_dominante       object\n",
       "dtype: object"
      ]
     },
     "execution_count": 43,
     "metadata": {},
     "output_type": "execute_result"
    }
   ],
   "source": [
    "ranas.dtypes #¿De qué tipo son las variables del objeto \"ranas\"?"
   ]
  },
  {
   "cell_type": "code",
   "execution_count": 44,
   "metadata": {
    "collapsed": false
   },
   "outputs": [
    {
     "data": {
      "text/plain": [
       "No.                     int64\n",
       "Familia              category\n",
       "Especie              category\n",
       "No_individuos           int64\n",
       "Longitud_media_cm     float64\n",
       "Peso_promedio_gr      float64\n",
       "Color_dominante      category\n",
       "dtype: object"
      ]
     },
     "execution_count": 44,
     "metadata": {},
     "output_type": "execute_result"
    }
   ],
   "source": [
    "#Convertimos las variables de tipo objeto \"Familia\", \"Especie\" y \"Color_dominante\" a variables de tipo categoría\n",
    "ranas[\"Familia\"] = ranas[\"Familia\"].astype(\"category\")\n",
    "ranas[\"Especie\"] = ranas[\"Especie\"].astype(\"category\")\n",
    "ranas[\"Color_dominante\"] = ranas[\"Color_dominante\"].astype(\"category\")\n",
    "ranas.dtypes #Mostrar los tipos de variables con los cambios realizados"
   ]
  },
  {
   "cell_type": "code",
   "execution_count": 45,
   "metadata": {
    "collapsed": false
   },
   "outputs": [
    {
     "data": {
      "image/png": "[encoded data removed]",
      "text/plain": [
       "<matplotlib.figure.Figure at 0x9e77ef0>"
      ]
     },
     "metadata": {},
     "output_type": "display_data"
    }
   ],
   "source": [
    "fig, ax = plt.subplots() #Creamos una figura que contenga los ejes (aun no se les asignan variables ni datos)\n",
    "\n",
    "# Indicamos equivalencias de color entre el indicado en la serie de datos y el color que se usará en la graficación.\n",
    "mapa_de_colores = {'Verde oscuro':'green', 'Café ':'olive', \n",
    "                    'Café oscuro':'saddlebrown', 'Café medio':'darkgoldenrod', \n",
    "                    'Verde claro':'lawngreen', 'Gris':'darkkhaki', \n",
    "                    'Verde limón':'greenyellow', 'Café claro':'burlywood',\n",
    "                    'Verde':'g','Dorado':'gold'}\n",
    "\n",
    "#Creamos un gráfico de tipo \"scatter\" indicando cuáles son los parámetros: eje x, eje y, color y tamaño del marcador. \n",
    "ax.scatter(range(len(ranas.Especie.values)), ranas.Longitud_media_cm, \n",
    "           c=ranas.Color_dominante.apply(lambda x: mapa_de_colores[x]), s=ranas.Peso_promedio_gr * 4)\n",
    "\n",
    "#Indicamos que los nombres de las especies en el eje X, con el texto girado en un ángulo de 90° (vertical)\n",
    "plt.xticks(range(len(ranas.Especie.values)), ranas.Especie, rotation=90)\n",
    "\n",
    "#Le colocamos título al gráfico \n",
    "ax.set_title('Tamaño y coloración dominante para 10 especies de anuros')\n",
    "\n",
    "#Solicitamos que muestre el gráfico creado\n",
    "plt.show()"
   ]
  }
 ],
 "metadata": {
  "anaconda-cloud": {},
  "kernelspec": {
   "display_name": "Python [default]",
   "language": "python",
   "name": "python3"
  },
  "language_info": {
   "codemirror_mode": {
    "name": "ipython",
    "version": 3
   },
   "file_extension": ".py",
   "mimetype": "text/x-python",
   "name": "python",
   "nbconvert_exporter": "python",
   "pygments_lexer": "ipython3",
   "version": "3.5.2"
  }
 },
 "nbformat": 4,
 "nbformat_minor": 0
}
